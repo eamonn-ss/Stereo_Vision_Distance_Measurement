{
 "cells": [
  {
   "cell_type": "code",
   "execution_count": 1,
   "id": "motivated-proof",
   "metadata": {},
   "outputs": [],
   "source": [
    "import cv2\n",
    "import time\n",
    "import ipywidgets\n",
    "import traitlets\n",
    "import ipywidgets as widgets\n",
    "from IPython.display import display\n",
    "from jetcam.utils import bgr8_to_jpeg\n",
    "from apocd import apocd_process_images\n",
    "from jetcam.csi_camera import CSICamera\n",
    "\n",
    "\n",
    "\n",
    "left_camera = CSICamera(capture_device=0, width=224, height=224, capture_fps=30)\n",
    "right_camera = CSICamera(capture_device=1, width=224, height=224, capture_fps=30)\n",
    "\n",
    "frame0 = left_camera.read()\n",
    "frame1 = right_camera.read()\n",
    "\n",
    "left_camera.running = True\n",
    "right_camera.running = True"
   ]
  },
  {
   "cell_type": "code",
   "execution_count": 2,
   "id": "robust-saver",
   "metadata": {},
   "outputs": [],
   "source": [
    "distance_slider_widget = widgets.FloatSlider(description='Distance', min=0, max=100, value=0)\n",
    "\n",
    "image_widget = widgets.Image()\n",
    "traitlets.dlink((left_camera, 'value'), (image_widget, 'value'), transform=bgr8_to_jpeg)\n",
    "\n",
    "image_box = widgets.HBox([image_widget])\n",
    "\n",
    "widgets_box = widgets.VBox([image_box, distance_slider_widget])"
   ]
  },
  {
   "cell_type": "code",
   "execution_count": 3,
   "id": "polished-neighbor",
   "metadata": {},
   "outputs": [],
   "source": [
    "from jetbot import Robot\n",
    "robot = Robot()"
   ]
  },
  {
   "cell_type": "code",
   "execution_count": 4,
   "id": "postal-settlement",
   "metadata": {},
   "outputs": [],
   "source": [
    "\n",
    "frame0 = None\n",
    "frame1 = None\n",
    "\n",
    "\n",
    "def update_image0(change):\n",
    "    global frame0\n",
    "    frame0 = change['new']\n",
    "#     print(\"frame0 updated\")\n",
    "\n",
    "def update_image1(change):\n",
    "    global frame1\n",
    "    frame1 = change['new']\n",
    "#     print(\"frame1 updated\")\n",
    "    \n",
    "left_camera.observe(update_image0, names='value')\n",
    "right_camera.observe(update_image1, names='value')\n",
    "\n",
    "\n",
    "def process_and_control():\n",
    "    global frame0, frame1\n",
    "\n",
    "    try:\n",
    "        while True:\n",
    "            if frame0 is not None and frame1 is not None:\n",
    "                status, coords, distance, dis_color, disp = apocd_process_images(frame0, frame1)\n",
    "\n",
    "                if not isinstance(distance, float):\n",
    "                    distance = 0\n",
    "                \n",
    "                distance_slider_widget.value = distance\n",
    "#                 print(status)\n",
    "                \n",
    "                if distance < 0.30:\n",
    "                    robot.stop()\n",
    "                else:\n",
    "                    robot.forward(speed=0.3)\n",
    "                \n",
    "                if coords is not None:\n",
    "                    X, Y, Z = coords\n",
    "                    print(f\"World Coordinates: X = {X} mm, Y = {Y} mm, Z = {Z} mm\")\n",
    "                    print(f\"Distance: {distance} m\")\n",
    "            else:\n",
    "                print(\"Unable to read input images\")\n",
    "            \n",
    "            time.sleep(0.03)  # Control frame rate\n",
    "            if cv2.waitKey(1) & 0xFF == ord('q'):\n",
    "                break\n",
    "\n",
    "    except KeyboardInterrupt:\n",
    "        pass\n",
    "    finally:\n",
    "        robot.stop()\n"
   ]
  },
  {
   "cell_type": "code",
   "execution_count": null,
   "id": "horizontal-radical",
   "metadata": {},
   "outputs": [],
   "source": [
    "display(widgets_box)\n",
    "process_and_control()"
   ]
  },
  {
   "cell_type": "code",
   "execution_count": null,
   "id": "seasonal-hughes",
   "metadata": {},
   "outputs": [],
   "source": []
  }
 ],
 "metadata": {
  "kernelspec": {
   "display_name": "Python 3",
   "language": "python",
   "name": "python3"
  },
  "language_info": {
   "codemirror_mode": {
    "name": "ipython",
    "version": 3
   },
   "file_extension": ".py",
   "mimetype": "text/x-python",
   "name": "python",
   "nbconvert_exporter": "python",
   "pygments_lexer": "ipython3",
   "version": "3.6.9"
  }
 },
 "nbformat": 4,
 "nbformat_minor": 5
}
