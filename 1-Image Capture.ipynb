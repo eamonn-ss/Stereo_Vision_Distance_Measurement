{
 "cells": [
  {
   "cell_type": "code",
   "execution_count": null,
   "id": "dd224619",
   "metadata": {},
   "outputs": [],
   "source": [
    "import os\n",
    "import cv2\n",
    "import threading\n",
    "import ipywidgets as widgets\n",
    "import traitlets\n",
    "from IPython.display import display\n",
    "from jetcam.utils import bgr8_to_jpeg\n",
    "from jetcam.csi_camera import CSICamera"
   ]
  },
  {
   "cell_type": "code",
   "execution_count": null,
   "id": "computational-cookie",
   "metadata": {},
   "outputs": [],
   "source": [
    "#left_camera\n",
    "camera0 = CSICamera(capture_device=0, width=224, height=224)\n",
    "#right_camera\n",
    "camera1 = CSICamera(capture_device=1, width=224, height=224)\n",
    "\n",
    "camera0.running = True\n",
    "camera1.running = True\n",
    "print(\"camera created\")"
   ]
  },
  {
   "cell_type": "code",
   "execution_count": 2,
   "id": "eleven-mumbai",
   "metadata": {},
   "outputs": [],
   "source": [
    "\n",
    "#图像保存目录\n",
    "left_images_path = 'left_images'\n",
    "right_images_path = 'right_images'\n",
    "\n",
    "#图像编号\n",
    "image_counter = 1\n",
    "\n",
    "def save_image(camera, path, prefix):\n",
    "    global image_counter\n",
    "    image_name = f\"{image_counter:03d}_{prefix}.jpg\"\n",
    "    image_path = os.path.join(path, image_name)\n",
    "    if not os.path.exists(path):\n",
    "        os.makedirs(path)\n",
    "    cv2.imwrite(image_path, camera.value)\n",
    "    print(f\"{image_name} saved to {path}\")"
   ]
  },
  {
   "cell_type": "code",
   "execution_count": null,
   "id": "champion-sensitivity",
   "metadata": {},
   "outputs": [],
   "source": [
    "#图像预览\n",
    "image_widget0 = widgets.Image(format='jpeg', width=224, height=224)\n",
    "image_widget1 = widgets.Image(format='jpeg', width=224, height=224)\n",
    "\n",
    "# 将图像数据与窗口关联\n",
    "camera_link0 = traitlets.dlink((camera0, 'value'), (image_widget0, 'value'), transform=bgr8_to_jpeg)\n",
    "camera_link1 = traitlets.dlink((camera1, 'value'), (image_widget1, 'value'), transform=bgr8_to_jpeg)\n",
    "\n",
    "# 创建一个水平布局，用于显示左右相机图像\n",
    "hbox = widgets.HBox([image_widget0, image_widget1])\n",
    "hbox = widgets.HBox([image_widget0])\n",
    "\n",
    "# 显示布局\n",
    "display(hbox)"
   ]
  },
  {
   "cell_type": "code",
   "execution_count": null,
   "id": "earned-fairy",
   "metadata": {},
   "outputs": [],
   "source": [
    "def capture():\n",
    "    global image_counter\n",
    "    threading.Thread(target=save_image, args=(camera0, left_images_path, \"left\")).start()\n",
    "    threading.Thread(target=save_image, args=(camera1, right_images_path, \"right\")).start()\n",
    "    image_counter += 1\n",
    "\n",
    "def capture_on_click(b):\n",
    "    capture()\n",
    "    \n",
    "# 在 Jupyter Lab 中创建一个按钮\n",
    "capture_button = widgets.Button(description=\"Capture\")\n",
    "capture_button.on_click(capture_on_click)\n",
    "display(capture_button)"
   ]
  },
  {
   "cell_type": "code",
   "execution_count": null,
   "id": "thermal-expression",
   "metadata": {},
   "outputs": [],
   "source": [
    "data_collection_widget = widgets.VBox([\n",
    "    widgets.HBox([image_widget0]),\n",
    "    capture_button\n",
    "])\n",
    "\n",
    "display(data_collection_widget)"
   ]
  },
  {
   "cell_type": "code",
   "execution_count": 6,
   "id": "increasing-basin",
   "metadata": {},
   "outputs": [],
   "source": [
    "!zip -r -q left_images.zip left_images"
   ]
  },
  {
   "cell_type": "code",
   "execution_count": 7,
   "id": "unavailable-angola",
   "metadata": {},
   "outputs": [],
   "source": [
    "!zip -r -q right_images.zip right_images"
   ]
  },
  {
   "cell_type": "code",
   "execution_count": null,
   "id": "nonprofit-dynamics",
   "metadata": {},
   "outputs": [],
   "source": []
  }
 ],
 "metadata": {
  "kernelspec": {
   "display_name": "Python 3",
   "language": "python",
   "name": "python3"
  },
  "language_info": {
   "codemirror_mode": {
    "name": "ipython",
    "version": 3
   },
   "file_extension": ".py",
   "mimetype": "text/x-python",
   "name": "python",
   "nbconvert_exporter": "python",
   "pygments_lexer": "ipython3",
   "version": "3.6.9"
  }
 },
 "nbformat": 4,
 "nbformat_minor": 5
}
